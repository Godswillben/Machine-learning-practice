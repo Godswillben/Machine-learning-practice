{
 "cells": [
  {
   "cell_type": "markdown",
   "id": "ec007bd1",
   "metadata": {},
   "source": [
    "# Introduction to scikit learn\n",
    "\n",
    "This notebook demonstrate some of the most useful functions of the sckit-learn library\n",
    "\n",
    "What would be corvered:\n",
    "0. An end-to-end scikit workflow\n",
    "1. Getting the data ready\n",
    "2. Choose the right estimator/algorithm for our problems\n",
    "3. Fit the model/algorithm and use it to make predictions to our data\n",
    "4. Evaluating a model\n",
    "5. Improve our model\n",
    "6. Save and load a trained model\n",
    "7. Putting it all together!"
   ]
  },
  {
   "cell_type": "code",
   "execution_count": null,
   "id": "5cd63e7d",
   "metadata": {},
   "outputs": [],
   "source": []
  }
 ],
 "metadata": {
  "kernelspec": {
   "display_name": "Python 3 (ipykernel)",
   "language": "python",
   "name": "python3"
  },
  "language_info": {
   "codemirror_mode": {
    "name": "ipython",
    "version": 3
   },
   "file_extension": ".py",
   "mimetype": "text/x-python",
   "name": "python",
   "nbconvert_exporter": "python",
   "pygments_lexer": "ipython3",
   "version": "3.11.3"
  }
 },
 "nbformat": 4,
 "nbformat_minor": 5
}
