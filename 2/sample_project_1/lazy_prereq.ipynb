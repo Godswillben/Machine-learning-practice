{
 "cells": [
  {
   "cell_type": "markdown",
   "id": "4141493c",
   "metadata": {},
   "source": [
    "# Introduction to Scikit-learn (sklearn)\n",
    "\n",
    "This notebook demostrates some of the most useful function of the beautiful scikit learn library.\n",
    "\n",
    "What we're going to cover:\n",
    "\n",
    "0. An end to end scikit-learn workflow\n",
    "1. Getting the data ready.\n",
    "2. Choose the right estimator/Algorithim for our problems\n",
    "3. Fit the model/algorithim "
   ]
  }
 ],
 "metadata": {
  "kernelspec": {
   "display_name": "Python 3 (ipykernel)",
   "language": "python",
   "name": "python3"
  },
  "language_info": {
   "codemirror_mode": {
    "name": "ipython",
    "version": 3
   },
   "file_extension": ".py",
   "mimetype": "text/x-python",
   "name": "python",
   "nbconvert_exporter": "python",
   "pygments_lexer": "ipython3",
   "version": "3.11.3"
  }
 },
 "nbformat": 4,
 "nbformat_minor": 5
}
